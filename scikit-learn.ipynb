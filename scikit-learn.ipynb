{
 "cells": [
  {
   "cell_type": "markdown",
   "metadata": {},
   "source": [
    "<img src=\"https://i2.wp.com/softwareengineeringdaily.com/wp-content/uploads/2016/09/scikit-learn-logo.png?resize=566%2C202&ssl=1\" alt=\"image info\" />"
   ]
  },
  {
   "cell_type": "markdown",
   "metadata": {},
   "source": [
    "# Scikit-learn\n",
    "***"
   ]
  },
  {
   "cell_type": "markdown",
   "metadata": {},
   "source": [
    "* Author: John Paul Lee\n",
    "* Github: JPLee01\n",
    "* Email: G00387906@gmit.ie\n",
    "* Created: 04-11-2021, Last update: XX-12-2021\n",
    "* Machine Learning and Statistics: Investigation into the Scikit-learn and Scipy-Stats Python libraries.\n",
    "***\n",
    "* This Jupyter Notebook has been created to investigate the Scikit-learn Python library by offeing an overview, demonstration, plots and visualisations of each of the libraries.\n",
    "\n",
    "**Lecturer:** Dr. Ian McLoughlin\n",
    "\n",
    "The Project instructions can be found [here](https://github.com/JPLee01/Machine_Learning_and_Statistics/blob/main/Instructions.pdf)\n",
    "***\n",
    "As part of the project this notebook will deal with three main tasks:\n",
    "\n",
    "1. Offer an overview of the Scikit-learn and Scipy-Stats Python libraries.\n",
    "2. Demonstrate three Scikit-learn algorithms and a Scipy-Stats hypothsis test using ANOVA.\n",
    "3. Create plots and visualisations as necessary.\n",
    "\n",
    "## Preliminaries\n"
   ]
  },
  {
   "cell_type": "code",
   "execution_count": null,
   "metadata": {},
   "outputs": [],
   "source": []
  },
  {
   "cell_type": "code",
   "execution_count": null,
   "metadata": {},
   "outputs": [],
   "source": []
  },
  {
   "cell_type": "markdown",
   "metadata": {},
   "source": [
    "## Scikit-Learn\n",
    "\n",
    "The scikit-learn is a machine learning library for the Python programming language.<sup>[1]</sup> Initially developed as a Google summer of code project by David Cournapeau in 2007, scikit-learn is now one of the most popular machine learning libraries on GitHub.<sup>[2]</sup> Considered the gold standard for Machine Learning in the Python ecosystem, scikit-learn's key concepts and features include:<sup>[3]</sup>\n",
    "* Algorithmic decision-making methods, including:\n",
    "    * **Classification:** identifying and categorizing data based on patterns.\n",
    "    * **Regression:** predicting or projecting data values based on the average mean of existing and planned data.\n",
    "    * **Clustering:** automatic grouping of similar data into datasets.\n",
    "* Algorithms that support predictive analysis ranging from simple linear regression to neural network pattern recognition.\n",
    "* Interoperability with NumPy, pandas, and matplotlib libraries.\n",
    "\n",
    "Scikit-learn aims to provide a range of supervised and unsupervised learning algorithms to the user.<sup>[4]</sup>\n",
    "Due to its permissive simplified BSD license, scikit-learn is widely used in both academic and commercial circles.<sup>[5]</sup>\n",
    "\n",
    "Scikit-learn\n",
    "\n",
    "\n",
    "\n",
    "\n",
    "The numpy.random fuction is a package within the NumPy (Numerical Python) library for doing random sampling.[4]\n",
    "\n",
    "NumPy according to it's manual is a \"Python library that provides a multidimensional array object, various derived objects (such as masked arrays and matrices), and an assortment of routines for fast operations on arrays, including mathematical, logical, shape manipulation, sorting, selecting, I/O, discrete Fourier transforms, basic linear algebra, basic statistical operations, random simulation.\"[5] The NumPy library enhances Python through the use of powerful data structures, implementing multi-dimensional arrays and matrices.[6] These data structures guarantee efficient calculations with matrices and arrays.[7] As a result, NumPy is able to help programmers in easily performing numerical computations, and is considered the fundamental package for scientific computing with Python.[8] Some of the numerical computations which can be performed easily with NumPy include:[9]\n",
    "\n",
    "Machine Learning Models\n",
    "Image Processing and Computer Graphics\n",
    "Mathematical tasks\n",
    "The numpy.random fuction within NumPy produces pseudorandom numbers (numbers created through the use of algorithms that use mathematical formulae or simply precalculated tables to produce sequences of numbers that appear random[10]) using combinations of a BitGenerator to create sequences and a Generator to use those sequences to sample from different statistical distributions.[11] A BitGenerator generates random numbers. These are typically unsigned integer words filled with sequences of either 32 or 64 random bits.[12] While a Generator transforms the sequences of random bits from the BitGenerator into sequences of numbers that follow a specific probability distribution (such as uniform, Normal or Binomial) within a specified interval.[13]\n",
    "\n",
    "It should be noted that since NumPy version 1.17.0 the Generator can be initialized with a number of different BitGenerators.[11] The default BitGenerator within NumPy is PCG64 which is a 128-bit implementation of O’Neill’s permutation congruential generator.[14]"
   ]
  },
  {
   "cell_type": "code",
   "execution_count": null,
   "metadata": {},
   "outputs": [],
   "source": []
  },
  {
   "cell_type": "code",
   "execution_count": null,
   "metadata": {},
   "outputs": [],
   "source": []
  },
  {
   "cell_type": "code",
   "execution_count": null,
   "metadata": {},
   "outputs": [],
   "source": []
  },
  {
   "cell_type": "markdown",
   "metadata": {},
   "source": [
    "## References\n",
    "****"
   ]
  },
  {
   "cell_type": "markdown",
   "metadata": {},
   "source": [
    "<a name=\"myfootnote1\">1</a>: Fabian Pedregosa et al. - Scikit-learn: Machine Learning in Python, https://jmlr.org/papers/v12/pedregosa11a.html\n",
    "<a name=\"myfootnote2\">2</a>: Thomas Elliott - The State of the Octoverse: machine learning, https://github.blog/2019-01-24-the-state-of-the-octoverse-machine-learning/\n",
    "<a name=\"myfootnote3\">3</a>: Active State - What Is Scikit-Learn In Python?, https://www.activestate.com/resources/quick-reads/what-is-scikit-learn-in-python/\n",
    "<a name=\"myfootnote4\">4</a>: Jason Brownlee - A Gentle Introduction to Scikit-Learn: A Python Machine Learning Library, <https://machinelearningmastery.com/a-gentle-introduction-to-scikit-learn-a-python-machine-learning-library/>\n",
    "<a name=\"myfootnote5\">5</a>: Dataquest - Scikit-learn Tutorial: Machine Learning in Python, https://www.dataquest.io/blog/sci-kit-learn-tutorial/\n",
    "<a name=\"myfootnote6\">6</a>: \n"
   ]
  },
  {
   "cell_type": "markdown",
   "metadata": {},
   "source": [
    "## Bibliography\n",
    "***"
   ]
  },
  {
   "cell_type": "markdown",
   "metadata": {},
   "source": [
    "Within the course of this assessment the following sources were also used for research purposes:\n",
    "* IBM - Markdown for Jupyter notebooks cheatsheet, https://www.ibm.com/docs/en/watson-studio-local/1.2.3?topic=notebooks-markdown-jupyter-cheatsheet"
   ]
  }
 ],
 "metadata": {
  "kernelspec": {
   "display_name": "Python 3",
   "language": "python",
   "name": "python3"
  },
  "language_info": {
   "codemirror_mode": {
    "name": "ipython",
    "version": 3
   },
   "file_extension": ".py",
   "mimetype": "text/x-python",
   "name": "python",
   "nbconvert_exporter": "python",
   "pygments_lexer": "ipython3",
   "version": "3.8.2"
  }
 },
 "nbformat": 4,
 "nbformat_minor": 4
}
