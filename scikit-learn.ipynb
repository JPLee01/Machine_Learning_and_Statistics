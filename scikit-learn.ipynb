{
 "cells": [
  {
   "cell_type": "markdown",
   "metadata": {},
   "source": [
    "<img src=\"https://i2.wp.com/softwareengineeringdaily.com/wp-content/uploads/2016/09/scikit-learn-logo.png?resize=566%2C202&ssl=1\" alt=\"image info\" />"
   ]
  },
  {
   "cell_type": "markdown",
   "metadata": {},
   "source": [
    "# Scikit-learn\n",
    "***"
   ]
  },
  {
   "cell_type": "markdown",
   "metadata": {},
   "source": [
    "* Author: John Paul Lee\n",
    "* Github: JPLee01\n",
    "* Email: G00387906@gmit.ie\n",
    "* Created: 04-11-2021, Last update: XX-12-2021\n",
    "* Machine Learning and Statistics: Investigation into the Scikit-learn and Scipy-Stats Python libraries.\n",
    "***\n",
    "* This Jupyter Notebook has been created to investigate the Scikit-learn and Scipy-Stats Python libraries by offeing an overview, demonstration, plots and visualisations of each of the libraries.\n",
    "\n",
    "**Lecturer:** Dr. Ian McLoughlin\n",
    "\n",
    "The Project instructions can be found [here](https://github.com/JPLee01/Machine_Learning_and_Statistics/blob/main/Instructions.pdf)\n",
    "***\n",
    "As part of the project this notebook will deal with three main tasks:\n",
    "\n",
    "1. Offer an overview of the Scikit-learn and Scipy-Stats Python libraries.\n",
    "2. Demonstrate three Scikit-learn algorithms and a Scipy-Stats hypothsis test using ANOVA.\n",
    "3. Create plots and visualisations as necessary.\n",
    "\n",
    "## Preliminaries"
   ]
  },
  {
   "cell_type": "code",
   "execution_count": null,
   "metadata": {},
   "outputs": [],
   "source": []
  },
  {
   "cell_type": "code",
   "execution_count": null,
   "metadata": {},
   "outputs": [],
   "source": []
  },
  {
   "cell_type": "code",
   "execution_count": null,
   "metadata": {},
   "outputs": [],
   "source": []
  },
  {
   "cell_type": "code",
   "execution_count": null,
   "metadata": {},
   "outputs": [],
   "source": []
  },
  {
   "cell_type": "code",
   "execution_count": null,
   "metadata": {},
   "outputs": [],
   "source": []
  }
 ],
 "metadata": {
  "kernelspec": {
   "display_name": "Python 3",
   "language": "python",
   "name": "python3"
  },
  "language_info": {
   "codemirror_mode": {
    "name": "ipython",
    "version": 3
   },
   "file_extension": ".py",
   "mimetype": "text/x-python",
   "name": "python",
   "nbconvert_exporter": "python",
   "pygments_lexer": "ipython3",
   "version": "3.8.2"
  }
 },
 "nbformat": 4,
 "nbformat_minor": 4
}
