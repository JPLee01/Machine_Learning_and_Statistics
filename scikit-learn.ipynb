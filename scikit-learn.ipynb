{
 "cells": [
  {
   "cell_type": "markdown",
   "metadata": {},
   "source": [
    "<img src=\"https://i2.wp.com/softwareengineeringdaily.com/wp-content/uploads/2016/09/scikit-learn-logo.png?resize=566%2C202&ssl=1\" alt=\"image info\" />"
   ]
  },
  {
   "cell_type": "markdown",
   "metadata": {},
   "source": [
    "# Scikit-learn\n",
    "***"
   ]
  },
  {
   "cell_type": "markdown",
   "metadata": {},
   "source": [
    "* Author: John Paul Lee\n",
    "* Github: JPLee01\n",
    "* Email: G00387906@gmit.ie\n",
    "* Created: 04-11-2021, Last update: XX-12-2021\n",
    "* Machine Learning and Statistics: Investigation into the Scikit-learn and Scipy-Stats Python libraries.\n",
    "***\n",
    "* This Jupyter Notebook has been created to investigate the Scikit-learn Python library by offeing an overview, demonstration, plots and visualisations of each of the libraries.\n",
    "\n",
    "**Lecturer:** Dr. Ian McLoughlin\n",
    "\n",
    "The Project instructions can be found [here](https://github.com/JPLee01/Machine_Learning_and_Statistics/blob/main/Instructions.pdf)\n",
    "***\n",
    "As part of the project this notebook will deal with three main tasks:\n",
    "\n",
    "1. Offer an overview of the Scikit-learn and Scipy-Stats Python libraries.\n",
    "2. Demonstrate three Scikit-learn algorithms and a Scipy-Stats hypothsis test using ANOVA.\n",
    "3. Create plots and visualisations as necessary.\n",
    "\n",
    "## Preliminaries\n"
   ]
  },
  {
   "cell_type": "code",
   "execution_count": null,
   "metadata": {},
   "outputs": [],
   "source": []
  },
  {
   "cell_type": "code",
   "execution_count": null,
   "metadata": {},
   "outputs": [],
   "source": []
  },
  {
   "cell_type": "markdown",
   "metadata": {},
   "source": [
    "## Scikit-Learn\n",
    "\n",
    "The scikit-learn is a machine learning library for the Python programming language.<sup>[1]</sup> Initially developed as a Google summer of code project by David Cournapeau in 2007, scikit-learn is now one of the most popular machine learning libraries on GitHub.<sup>[2]</sup> Built on NumPy, SciPy and matplotlib libraries, scikit-learn is considered the gold standard for Machine Learning in the Python ecosystem.<sup>[3]</sup> Scikit-learn's key concepts and features include:<sup>[4]</sup>\n",
    "* Algorithmic decision-making methods, including:\n",
    "    * **Classification:** identifying and categorizing data based on patterns.\n",
    "    * **Regression:** predicting or projecting data values based on the average mean of existing and planned data.\n",
    "    * **Clustering:** automatic grouping of similar data into datasets.\n",
    "* Algorithms that support predictive analysis ranging from simple linear regression to neural network pattern recognition.\n",
    "* Interoperability with NumPy, pandas, and matplotlib libraries.\n",
    "\n",
    "Scikit-learn aims to provide a range of supervised and unsupervised learning algorithms to the user.<sup>[5]</sup>\n",
    "* **Supervised Learning Algorithms** refer to algorithms which attempts to model relationships and dependencies between the target prediction output and the input features.<sup>[6]</sup> Within supervised learning algorithms the input variables (*x*) and an output variable (*Y*) are know and the algorithm is employed learn the mapping function from the input to the output. The goal of supervised learning algorithmsis are to approximate the mapping function so well that when you have new input data (*x*) that you can predict the output variables (*Y*) for that data.<sup>[7]</sup> As the name suggests supervised learning algorithms incorporate the use of a \"supervisor or a teacher\". The supervisor is labeled training data which teaches the constructed algorithm to detect the underlying patterns and relationships between the input data and the output labels.<sup>[8]</sup> This algorithm is refined until it is able to yield accurate labeling results when presented with never-before-seen data.<sup>[9]</sup> This is concept similiar to the way a student learns in the supervision of a teacher.<sup>[10]</sup> Some of the advantages of supervised learning algorithms is that they offer the user a high degree of control of the training process and the definition of the classes<sup>[11]</sup> While some of the disadvantages are it's not seen as the most efficient option for dealing with complex tasks and can be very time intensive.<sup>[12]</sup>\n",
    "\n",
    "* **Unsupervised Learning Algorithms** are a type of machine learning algorithms in which no pre-assigned labels or scores are provided to the training data.<sup>[13]</sup> As a result these algorithms discover hidden patterns or data groupings without the need for human intervention (hence the name unsupervised).<sup>[14]</sup> While the goal of supervised learning is to predict outcomes for new data. The goal of unsupervised learning is to get insights from large volumes of new data. The algorithm itself determines what is different or interesting from the dataset.<sup>[15]</sup> Due to its ability to discover similarities and differences in data, unsupervised learning algorithms are widely used in the fields of exploratory data analysis and image recognition.<sup>[16]</sup> Some of the advantages of unsupervised learning algorithms are that they can uncover hidden patterns which the user might not have previously considered, and the  opportunity for human error is drastically minimized.<sup>[17]</sup> While some of the disadvantages include questions over the accuracy of the results due to the lack input data to train from, and no guarantee that the obtained results will be of benefit to the user.<sup>[18]</sup>\n",
    "\n",
    "    The processes for both supervised and unsupervised learning algorithms can be seen in the images below:<sup>[19]</sup>\n",
    "\n",
    "\n",
    "\n",
    "<table><tr>\n",
    "<td> <img src=\"https://bigdata-madesimple.com/wp-content/uploads/2018/02/Machine-Learning-Explained1.png\" alt=\"Supervised\" style=\"width: 450px; height: 450px;\"/> </td>\n",
    "<td> <img src=\"https://bigdata-madesimple.com/wp-content/uploads/2018/02/Machine-Learning-Explained2.png\" alt=\"Unsupervised\" style=\"width: 450px; height: 450px;\"/> </td>\n",
    "</tr></table>\n",
    "\n",
    "\n",
    "<img src=\"https://bigdata-madesimple.com/wp-content/uploads/2018/02/Machine-Learning-Explained1.png\" alt=\"Supervised\"/> \n",
    "\n",
    "\n",
    "<img src=\"https://bigdata-madesimple.com/wp-content/uploads/2018/02/Machine-Learning-Explained2.png\" alt=\"Unsupervised\"/>\n",
    "\n",
    "\n",
    "\n",
    "Due to its permissive simplified BSD license, scikit-learn is widely used in both academic and commercial circles.<sup>[8]</sup> \n",
    "\n",
    "\n",
    "Scikit-learn has six main areas in which it can be applied: vs Some of the groups of models provided by Sklearn include:\n",
    "\n",
    "\n",
    "\n",
    "\n",
    "\n",
    "\n"
   ]
  },
  {
   "cell_type": "code",
   "execution_count": null,
   "metadata": {},
   "outputs": [],
   "source": []
  },
  {
   "cell_type": "code",
   "execution_count": null,
   "metadata": {},
   "outputs": [],
   "source": []
  },
  {
   "cell_type": "code",
   "execution_count": null,
   "metadata": {},
   "outputs": [],
   "source": []
  },
  {
   "cell_type": "markdown",
   "metadata": {},
   "source": [
    "## References\n",
    "****"
   ]
  },
  {
   "cell_type": "markdown",
   "metadata": {},
   "source": [
    "<a name=\"myfootnote1\">1</a>: Fabian Pedregosa et al. - Scikit-learn: Machine Learning in Python, https://jmlr.org/papers/v12/pedregosa11a.html\n",
    "\n",
    "<a name=\"myfootnote2\">2</a>: Thomas Elliott - The State of the Octoverse: machine learning, https://github.blog/2019-01-24-the-state-of-the-octoverse-machine-learning/\n",
    "\n",
    "<a name=\"myfootnote3\">3</a>: George Seif - An Introduction to Scikit Learn: The Gold Standard of Python Machine Learning, https://www.kdnuggets.com/2019/02/introduction-scikit-learn-gold-standard-python-machine-learning.html\n",
    "\n",
    "<a name=\"myfootnote4\">4</a>: Active State - What Is Scikit-Learn In Python?, https://www.activestate.com/resources/quick-reads/what-is-scikit-learn-in-python/\n",
    "\n",
    "<a name=\"myfootnote5\">5</a>: Jason Brownlee - A Gentle Introduction to Scikit-Learn: A Python Machine Learning Library, https://machinelearningmastery.com/a-gentle-introduction-to-scikit-learn-a-python-machine-learning-library/\n",
    "\n",
    "<a name=\"myfootnote6\">6</a>: David Fumo - Types of Machine Learning Algorithms You Should Know, https://towardsdatascience.com/types-of-machine-learning-algorithms-you-should-know-953a08248861\n",
    "\n",
    "<a name=\"myfootnote7\">7</a>: Jason Brownlee  - Supervised and Unsupervised Machine Learning Algorithms, https://machinelearningmastery.com/supervised-and-unsupervised-machine-learning-algorithms/\n",
    "\n",
    "<a name=\"myfootnote8\">8</a>: Java Point - Supervised Machine Learning, https://www.javatpoint.com/supervised-machine-learning\n",
    "\n",
    "<a name=\"myfootnote9\">9</a>: David Petersson - Supervised Learning, https://searchenterpriseai.techtarget.com/definition/supervised-learning\n",
    "\n",
    "<a name=\"myfootnote10\">10</a>: Data Robot - Supervised Machine Learning, https://www.datarobot.com/wiki/supervised-machine-learning/\n",
    "\n",
    "<a name=\"myfootnote11\">11</a>: Pythonista Planet - Pros and Cons of Supervised Machine Learning, https://pythonistaplanet.com/pros-and-cons-of-supervised-machine-learning/\n",
    "\n",
    "<a name=\"myfootnote12\">12</a>: Ronald van Loon - Machine learning explained: Understanding supervised, unsupervised, and reinforcement learning, https://bigdata-madesimple.com/machine-learning-explained-understanding-supervised-unsupervised-and-reinforcement-learning/\n",
    "\n",
    "<a name=\"myfootnote13\">13</a>: Geoffrey Hinton - A Practical Guide to Training Restricted Boltzmann Machines, https://www.cs.toronto.edu/~hinton/absps/guideTR.pdf\n",
    "\n",
    "<a name=\"myfootnote14\">14</a>: IBM - Unsupervised Learning, https://www.ibm.com/cloud/learn/unsupervised-learning\n",
    "\n",
    "<a name=\"myfootnote15\">15</a>: IBM - Supervised vs. Unsupervised Learning: What’s the Difference?, https://www.ibm.com/cloud/blog/supervised-vs-unsupervised-learning\n",
    "\n",
    "<a name=\"myfootnote16\">16</a>: Java Point - Unsupervised Machine Learning, https://www.javatpoint.com/unsupervised-machine-learning\n",
    "\n",
    "<a name=\"myfootnote17\">17</a>: Asquero - Advantages and Disadvantages of different types of machine learning algorithms, https://www.asquero.com/article/advantages-and-disadvantages-of-different-types-of-machine-learning-algorithms/\n",
    "\n",
    "<a name=\"myfootnote18\">18</a>: Pythonista Planet - Pros and Cons of Unsupervised Learning, https://pythonistaplanet.com/pros-and-cons-of-unsupervised-learning/\n",
    "\n",
    "<a name=\"myfootnote19\">19</a>: Ronald van Loon - Machine learning explained: Understanding supervised, unsupervised, and reinforcement learning, https://bigdata-madesimple.com/machine-learning-explained-understanding-supervised-unsupervised-and-reinforcement-learning/\n",
    "\n",
    "<a name=\"myfootnote20\">20</a>:  \n",
    "\n",
    "\n",
    "\n",
    "\n",
    "\n",
    "\n",
    "<a name=\"myfootnote8\">8</a>: Dataquest - Scikit-learn Tutorial: Machine Learning in Python, https://www.dataquest.io/blog/sci-kit-learn-tutorial/\n"
   ]
  },
  {
   "cell_type": "markdown",
   "metadata": {},
   "source": [
    "## Bibliography\n",
    "***"
   ]
  },
  {
   "cell_type": "markdown",
   "metadata": {},
   "source": [
    "Within the course of this assessment the following sources were also used for research purposes:\n",
    "* Daniel Johnson - Supervised vs Unsupervised Learning: Key Differences, https://www.guru99.com/supervised-vs-unsupervised-learning.html\n",
    "* Daniel Johnson - Unsupervised Machine Learning: What is, Algorithms, Example, https://www.guru99.com/unsupervised-machine-learning.html\n",
    "* Data Robot - Unsupervised Machine Learning, https://www.datarobot.com/wiki/unsupervised-machine-learning/\n",
    "* Geeks for Geeks - Supervised and Unsupervised learning, https://www.geeksforgeeks.org/supervised-unsupervised-learning/\n",
    "* IBM - Markdown for Jupyter notebooks cheatsheet, https://www.ibm.com/docs/en/watson-studio-local/1.2.3?topic=notebooks-markdown-jupyter-cheatsheet\n",
    "* IBM - Supervised Learning, https://www.ibm.com/cloud/learn/supervised-learning\n",
    "* OpenDataScience - The A – Z of Supervised Learning, Use Cases, and Disadvantages, https://opendatascience.com/the-a-z-of-supervised-learning-use-cases-and-disadvantages/\n",
    "* Quora - What are the advantages and disadvantages of a supervised learning machine?, https://www.quora.com/What-are-the-advantages-and-disadvantages-of-a-supervised-learning-machine\n",
    "* Sanatan Mishra - Unsupervised Learning and Data Clustering, https://towardsdatascience.com/unsupervised-learning-and-data-clustering-eeecb78b422a\n",
    "* Tech Vidvan - Unsupervised Learning – Machine Learning Algorithms, https://techvidvan.com/tutorials/unsupervised-learning/\n",
    "* "
   ]
  },
  {
   "cell_type": "code",
   "execution_count": null,
   "metadata": {},
   "outputs": [],
   "source": []
  }
 ],
 "metadata": {
  "kernelspec": {
   "display_name": "Python 3",
   "language": "python",
   "name": "python3"
  },
  "language_info": {
   "codemirror_mode": {
    "name": "ipython",
    "version": 3
   },
   "file_extension": ".py",
   "mimetype": "text/x-python",
   "name": "python",
   "nbconvert_exporter": "python",
   "pygments_lexer": "ipython3",
   "version": "3.8.2"
  }
 },
 "nbformat": 4,
 "nbformat_minor": 4
}
