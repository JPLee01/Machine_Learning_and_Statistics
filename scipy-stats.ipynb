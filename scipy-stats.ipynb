{
 "cells": [
  {
   "cell_type": "markdown",
   "metadata": {},
   "source": [
    "<img src=\"https://nlaongtup.github.io/post/scipy-lammps/featured.png\" alt=\"image info\" />"
   ]
  },
  {
   "cell_type": "markdown",
   "metadata": {},
   "source": [
    "# Scipy-Stats\n",
    "***"
   ]
  },
  {
   "cell_type": "markdown",
   "metadata": {},
   "source": [
    "* Author: John Paul Lee\n",
    "* Github: JPLee01\n",
    "* Email: G00387906@gmit.ie\n",
    "* Created: 04-11-2021, Last update: XX-01-2022\n",
    "* Machine Learning and Statistics: Investigation into the Scikit-learn and Scipy-Stats Python libraries.\n",
    "***\n",
    "* This Jupyter Notebook has been created to investigate the Scipy-Stats Python library by offeing an overview, demonstration, plots and visualisations of each of the libraries.\n",
    "\n",
    "**Lecturer:** Dr. Ian McLoughlin\n",
    "\n",
    "The Project instructions can be found [here](https://github.com/JPLee01/Machine_Learning_and_Statistics/blob/main/Instructions.pdf)\n",
    "***\n",
    "As part of the project this notebook will deal with three main tasks:\n",
    "\n",
    "1. Offer an overview of the Scikit-learn and Scipy-Stats Python libraries.\n",
    "2. Demonstrate three Scikit-learn algorithms and a Scipy-Stats hypothsis test using ANOVA.\n",
    "3. Create plots and visualisations as necessary.\n",
    "\n",
    "## Preliminaries"
   ]
  },
  {
   "cell_type": "markdown",
   "metadata": {},
   "source": [
    "Prior to dealing with each section we first need to import a number of libraries. We need to import the Scipy-Stats library to allow for a comprehensive explanation of the library and machine learning to take place. The NumPy library is imported to allow for synthesisation of data sets. The Pandas library will also be imported to allow for analysis of the data sets. Finally the Matplotlib and Seaborn libraries will also need to be imported to allow for the creation of visualisations in the notebook."
   ]
  },
  {
   "cell_type": "code",
   "execution_count": 1,
   "metadata": {},
   "outputs": [],
   "source": [
    "#Import Stats from the Scipy library to allow for analysis to take place\n",
    "import scipy \n",
    "from scipy import stats\n",
    "\n",
    "#Import Pandas for Data Management \n",
    "import pandas as pd\n",
    "\n",
    "#Import Numpty for Analysis of the data \n",
    "import numpy as np\n",
    "\n",
    "#Import matplotlib.pyplot and seaborn for Visualisation of the data \n",
    "import matplotlib.pyplot as plt\n",
    "import seaborn as sns"
   ]
  },
  {
   "cell_type": "markdown",
   "metadata": {},
   "source": [
    "Also as we will be displaying Plots in this Jupyter Notebook we will implement the inline magic command to allow the Plots to be rendered inline within the Notebook.<sup>[1]</sup>"
   ]
  },
  {
   "cell_type": "code",
   "execution_count": 2,
   "metadata": {},
   "outputs": [],
   "source": [
    "#Inline Magic command implemented to ensure that the Plots are rendered inline\n",
    "%matplotlib inline"
   ]
  },
  {
   "cell_type": "markdown",
   "metadata": {},
   "source": [
    "To ensure uniformity throughout the Juypter Notebook in terms of the the Seaborn Plots display the style and palette fuction will be set.\n",
    "\n",
    "The style function will be set to darkgrid. This will allow for optimal measurements of Plots as the darkened background with the built in grid lines will be best displayed against the white background of the Juypter Notebook.<sup>[2]</sup>\n",
    "\n",
    "The palette fuction will be set to bright as it will allow for clear distinction of multiple outputs within one Plot.<sup>[3]</sup>\n",
    "\n",
    "Finally in order to ensure uniformity throughout the notebook the plots size will be set using the rcParams function.<sup>[4]</sup>"
   ]
  },
  {
   "cell_type": "code",
   "execution_count": 3,
   "metadata": {},
   "outputs": [],
   "source": [
    "#Setting of Seaborn dispays to enure uniformity throughout the Juypter Notebook\n",
    "#Darkplot style selected to allow for optimal measurments of Plots\n",
    "sns.set_style(\"darkgrid\")\n",
    "#Bright colour palette selected to allow for clear distinction of multiple outputs within one Plot \n",
    "sns.set_palette(\"bright\")"
   ]
  },
  {
   "cell_type": "code",
   "execution_count": 4,
   "metadata": {},
   "outputs": [],
   "source": [
    "# set plot style\n",
    "plt.style.use(\"ggplot\")\n",
    "\n",
    "# Increase the size of the output plots\n",
    "plt.rcParams[\"figure.figsize\"] = (12,8)"
   ]
  },
  {
   "cell_type": "markdown",
   "metadata": {},
   "source": [
    "## 1. Scipy-Stats\n",
    "Scipy.stats is a sub-package within the SciPy (Scientific Python) library which is focused on statistical functions.<sup>[5]</sup> The SciPy library is a open-source Python library built on the NumPy python package which is used for scientific and technical computing.<sup>[6]</sup> The SciPy library is a collection of mathematical algorithms and convenience functions which allows users to manipulate and visualize data.<sup>[7]</sup> Functions within scipy.stats module include; probability distributions, summary and frequency statistics, correlation functions and statistical tests, masked statistics, kernel density estimation and quasi-Monte Carlo functionality.<sup>[8]</sup> Scipy.stats specializes in random variables and probability distributions.<sup>[9]</sup> The scipy.stats module can be used in a number of areas including; weather forecasting, insurance and politics.<sup>[10]</sup> At present the scipy.stats module implements more than 80 continuous distributions and 10 discrete distributions.<sup>[11]</sup> "
   ]
  },
  {
   "cell_type": "markdown",
   "metadata": {},
   "source": [
    "A complete listing of the scipy.stats functions can be obtained using the function:```scipy.info(stats) ```. It should be noted however that this function will be removed from SciPy version 2.0.0 onwards and will be replaced by the ```numpy.info``` function.<sup>[12]</sup>"
   ]
  },
  {
   "cell_type": "code",
   "execution_count": null,
   "metadata": {},
   "outputs": [],
   "source": []
  },
  {
   "cell_type": "code",
   "execution_count": null,
   "metadata": {},
   "outputs": [],
   "source": []
  },
  {
   "cell_type": "code",
   "execution_count": null,
   "metadata": {},
   "outputs": [],
   "source": []
  },
  {
   "cell_type": "markdown",
   "metadata": {},
   "source": [
    "## References\n",
    "****"
   ]
  },
  {
   "cell_type": "markdown",
   "metadata": {},
   "source": [
    "<a name=\"myfootnote1\">1</a>: Stack Overflow - Purpose of “%matplotlib inline”, https://stackoverflow.com/questions/43027980/purpose-of-matplotlib-inline/43028034\n",
    "\n",
    "<a name=\"myfootnote2\">2</a>: The Python Graph Gallery - 104 Seaborn Themes, https://python-graph-gallery.com/104-seaborn-themes/\n",
    "\n",
    "<a name=\"myfootnote3\">3</a>: Seaborn - Choosing color palettes, https://seaborn.pydata.org/tutorial/color_palettes.html\n",
    "\n",
    "<a name=\"myfootnote4\">4</a>: Mathplotlib - Customizing Matplotlib with style sheets and rcParams, https://matplotlib.org/stable/tutorials/introductory/customizing.html\n",
    "\n",
    "<a name=\"myfootnote5\">5</a>: Data Flair - SciPy Stats – Statistical Functions in SciPy, https://data-flair.training/blogs/scipy-statistical-functions/\n",
    "\n",
    "<a name=\"myfootnote6\">6</a>: Hussain Mujtaba - SciPy Tutorial for Beginners | Overview of SciPy library, https://www.mygreatlearning.com/blog/scipy-tutorial/\n",
    "\n",
    "<a name=\"myfootnote7\">7</a>: Steve Campbell - SciPy in Python Tutorial: What is | Library & Functions Examples, https://www.guru99.com/scipy-tutorial.html\n",
    "\n",
    "<a name=\"myfootnote8\">8</a>: SciPy - User Guide Version 1.7.1 - Statistical functions (scipy.stats), https://docs.scipy.org/doc/scipy/reference/stats.html\n",
    "\n",
    "<a name=\"myfootnote9\">9</a>: Javatpoint - SciPy Stats, https://www.javatpoint.com/scipy-stats\n",
    "\n",
    "<a name=\"myfootnote10\">10</a>: Studious Guy - 8 Real Life Examples Of Probability, https://studiousguy.com/8-real-life-examples-of-probability/\n",
    "\n",
    "<a name=\"myfootnote11\">11</a>: Astro Stats - The package scipy.stats, https://www.great-esf.eu/AstroStats13-Python/numpy/scipystats.html\n",
    "\n",
    "<a name=\"myfootnote12\">12</a>: Cornellius Yudha Wijaya - 3 Top Python Packages to Learn Statistic for Data Scientist, https://towardsdatascience.com/3-top-python-packages-to-learn-statistic-for-data-scientist-d753b76e6099"
   ]
  },
  {
   "cell_type": "markdown",
   "metadata": {},
   "source": [
    "## Bibliography\n",
    "***"
   ]
  },
  {
   "cell_type": "markdown",
   "metadata": {},
   "source": [
    "Within the course of this assessment the following sources were also used for research purposes:\n",
    "* \n",
    "* Manish Pathak - Probability Distributions in Python Tutorial, https://www.datacamp.com/community/tutorials/probability-distributions-python\n",
    "* Stanford University - Python for Probability, https://web.stanford.edu/class/archive/cs/cs109/cs109.1192/handouts/pythonForProbability.html\n",
    "* Tutorials Point - SciPy - Stats, https://www.tutorialspoint.com/scipy/scipy_stats.htm\n",
    "* "
   ]
  }
 ],
 "metadata": {
  "kernelspec": {
   "display_name": "Python 3",
   "language": "python",
   "name": "python3"
  },
  "language_info": {
   "codemirror_mode": {
    "name": "ipython",
    "version": 3
   },
   "file_extension": ".py",
   "mimetype": "text/x-python",
   "name": "python",
   "nbconvert_exporter": "python",
   "pygments_lexer": "ipython3",
   "version": "3.8.2"
  }
 },
 "nbformat": 4,
 "nbformat_minor": 4
}
